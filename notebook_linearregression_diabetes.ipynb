{
 "cells": [
  {
   "cell_type": "code",
   "execution_count": 25,
   "id": "c969a0e6",
   "metadata": {},
   "outputs": [],
   "source": [
    "import numpy as np\n",
    "import pandas as pd"
   ]
  },
  {
   "cell_type": "code",
   "execution_count": 35,
   "id": "04340430",
   "metadata": {},
   "outputs": [],
   "source": [
    "train_data = np.loadtxt(r'C:\\Users\\HP\\Downloads\\0000000000002329_training_diabetes_x_y_train.csv',delimiter=',')\n",
    "X_train = train_data[:,:10]\n",
    "Y_train = train_data[:,10:]\n",
    "test_data = np.loadtxt(r\"C:\\Users\\HP\\Downloads\\0000000000002329_test_diabetes_x_test.csv\",delimiter=\",\")"
   ]
  },
  {
   "cell_type": "code",
   "execution_count": 39,
   "id": "7ebad34e",
   "metadata": {},
   "outputs": [
    {
     "data": {
      "text/plain": [
       "(331, 11)"
      ]
     },
     "execution_count": 39,
     "metadata": {},
     "output_type": "execute_result"
    }
   ],
   "source": [
    "train_data.shape"
   ]
  },
  {
   "cell_type": "code",
   "execution_count": 40,
   "id": "b2e92428",
   "metadata": {},
   "outputs": [
    {
     "data": {
      "text/plain": [
       "((331, 10), (331, 1))"
      ]
     },
     "execution_count": 40,
     "metadata": {},
     "output_type": "execute_result"
    }
   ],
   "source": [
    "X_train.shape,Y_train.shape"
   ]
  },
  {
   "cell_type": "code",
   "execution_count": 41,
   "id": "f1d53fde",
   "metadata": {},
   "outputs": [],
   "source": [
    "from sklearn.linear_model import LinearRegression"
   ]
  },
  {
   "cell_type": "code",
   "execution_count": 42,
   "id": "40c0895a",
   "metadata": {},
   "outputs": [],
   "source": [
    "alg1 = LinearRegression()"
   ]
  },
  {
   "cell_type": "code",
   "execution_count": 43,
   "id": "cec62046",
   "metadata": {},
   "outputs": [
    {
     "data": {
      "text/html": [
       "<style>#sk-container-id-1 {color: black;}#sk-container-id-1 pre{padding: 0;}#sk-container-id-1 div.sk-toggleable {background-color: white;}#sk-container-id-1 label.sk-toggleable__label {cursor: pointer;display: block;width: 100%;margin-bottom: 0;padding: 0.3em;box-sizing: border-box;text-align: center;}#sk-container-id-1 label.sk-toggleable__label-arrow:before {content: \"▸\";float: left;margin-right: 0.25em;color: #696969;}#sk-container-id-1 label.sk-toggleable__label-arrow:hover:before {color: black;}#sk-container-id-1 div.sk-estimator:hover label.sk-toggleable__label-arrow:before {color: black;}#sk-container-id-1 div.sk-toggleable__content {max-height: 0;max-width: 0;overflow: hidden;text-align: left;background-color: #f0f8ff;}#sk-container-id-1 div.sk-toggleable__content pre {margin: 0.2em;color: black;border-radius: 0.25em;background-color: #f0f8ff;}#sk-container-id-1 input.sk-toggleable__control:checked~div.sk-toggleable__content {max-height: 200px;max-width: 100%;overflow: auto;}#sk-container-id-1 input.sk-toggleable__control:checked~label.sk-toggleable__label-arrow:before {content: \"▾\";}#sk-container-id-1 div.sk-estimator input.sk-toggleable__control:checked~label.sk-toggleable__label {background-color: #d4ebff;}#sk-container-id-1 div.sk-label input.sk-toggleable__control:checked~label.sk-toggleable__label {background-color: #d4ebff;}#sk-container-id-1 input.sk-hidden--visually {border: 0;clip: rect(1px 1px 1px 1px);clip: rect(1px, 1px, 1px, 1px);height: 1px;margin: -1px;overflow: hidden;padding: 0;position: absolute;width: 1px;}#sk-container-id-1 div.sk-estimator {font-family: monospace;background-color: #f0f8ff;border: 1px dotted black;border-radius: 0.25em;box-sizing: border-box;margin-bottom: 0.5em;}#sk-container-id-1 div.sk-estimator:hover {background-color: #d4ebff;}#sk-container-id-1 div.sk-parallel-item::after {content: \"\";width: 100%;border-bottom: 1px solid gray;flex-grow: 1;}#sk-container-id-1 div.sk-label:hover label.sk-toggleable__label {background-color: #d4ebff;}#sk-container-id-1 div.sk-serial::before {content: \"\";position: absolute;border-left: 1px solid gray;box-sizing: border-box;top: 0;bottom: 0;left: 50%;z-index: 0;}#sk-container-id-1 div.sk-serial {display: flex;flex-direction: column;align-items: center;background-color: white;padding-right: 0.2em;padding-left: 0.2em;position: relative;}#sk-container-id-1 div.sk-item {position: relative;z-index: 1;}#sk-container-id-1 div.sk-parallel {display: flex;align-items: stretch;justify-content: center;background-color: white;position: relative;}#sk-container-id-1 div.sk-item::before, #sk-container-id-1 div.sk-parallel-item::before {content: \"\";position: absolute;border-left: 1px solid gray;box-sizing: border-box;top: 0;bottom: 0;left: 50%;z-index: -1;}#sk-container-id-1 div.sk-parallel-item {display: flex;flex-direction: column;z-index: 1;position: relative;background-color: white;}#sk-container-id-1 div.sk-parallel-item:first-child::after {align-self: flex-end;width: 50%;}#sk-container-id-1 div.sk-parallel-item:last-child::after {align-self: flex-start;width: 50%;}#sk-container-id-1 div.sk-parallel-item:only-child::after {width: 0;}#sk-container-id-1 div.sk-dashed-wrapped {border: 1px dashed gray;margin: 0 0.4em 0.5em 0.4em;box-sizing: border-box;padding-bottom: 0.4em;background-color: white;}#sk-container-id-1 div.sk-label label {font-family: monospace;font-weight: bold;display: inline-block;line-height: 1.2em;}#sk-container-id-1 div.sk-label-container {text-align: center;}#sk-container-id-1 div.sk-container {/* jupyter's `normalize.less` sets `[hidden] { display: none; }` but bootstrap.min.css set `[hidden] { display: none !important; }` so we also need the `!important` here to be able to override the default hidden behavior on the sphinx rendered scikit-learn.org. See: https://github.com/scikit-learn/scikit-learn/issues/21755 */display: inline-block !important;position: relative;}#sk-container-id-1 div.sk-text-repr-fallback {display: none;}</style><div id=\"sk-container-id-1\" class=\"sk-top-container\"><div class=\"sk-text-repr-fallback\"><pre>LinearRegression()</pre><b>In a Jupyter environment, please rerun this cell to show the HTML representation or trust the notebook. <br />On GitHub, the HTML representation is unable to render, please try loading this page with nbviewer.org.</b></div><div class=\"sk-container\" hidden><div class=\"sk-item\"><div class=\"sk-estimator sk-toggleable\"><input class=\"sk-toggleable__control sk-hidden--visually\" id=\"sk-estimator-id-1\" type=\"checkbox\" checked><label for=\"sk-estimator-id-1\" class=\"sk-toggleable__label sk-toggleable__label-arrow\">LinearRegression</label><div class=\"sk-toggleable__content\"><pre>LinearRegression()</pre></div></div></div></div></div>"
      ],
      "text/plain": [
       "LinearRegression()"
      ]
     },
     "execution_count": 43,
     "metadata": {},
     "output_type": "execute_result"
    }
   ],
   "source": [
    "alg1.fit(X_train,Y_train)"
   ]
  },
  {
   "cell_type": "code",
   "execution_count": 47,
   "id": "7451d7ca",
   "metadata": {},
   "outputs": [
    {
     "data": {
      "text/plain": [
       "array([[105.52975],\n",
       "       [105.80392],\n",
       "       [178.60857],\n",
       "       [ 79.38288],\n",
       "       [ 52.95869],\n",
       "       [ 98.87264],\n",
       "       [150.71755],\n",
       "       [ 34.86515],\n",
       "       [113.13536],\n",
       "       [161.50184],\n",
       "       [135.86156],\n",
       "       [ 94.71592],\n",
       "       [138.48094],\n",
       "       [141.37442],\n",
       "       [158.76863],\n",
       "       [171.65289],\n",
       "       [106.44836],\n",
       "       [103.9266 ],\n",
       "       [ 95.38694],\n",
       "       [167.40118],\n",
       "       [166.53426],\n",
       "       [101.53465],\n",
       "       [252.45036],\n",
       "       [147.02259],\n",
       "       [214.78907],\n",
       "       [161.27557],\n",
       "       [210.61315],\n",
       "       [ 71.78092],\n",
       "       [189.65032],\n",
       "       [206.61343],\n",
       "       [219.98643],\n",
       "       [168.80193],\n",
       "       [116.84846],\n",
       "       [178.744  ],\n",
       "       [ 77.03247],\n",
       "       [ 59.54633],\n",
       "       [111.56738],\n",
       "       [156.95187],\n",
       "       [154.59591],\n",
       "       [198.94457],\n",
       "       [115.53884],\n",
       "       [153.46699],\n",
       "       [ 84.9618 ],\n",
       "       [113.70337],\n",
       "       [142.14156],\n",
       "       [147.3104 ],\n",
       "       [ 82.78072],\n",
       "       [ 77.89237],\n",
       "       [128.99006],\n",
       "       [261.58712],\n",
       "       [213.31188],\n",
       "       [243.98791],\n",
       "       [167.68132],\n",
       "       [183.69712],\n",
       "       [166.85927],\n",
       "       [202.1144 ],\n",
       "       [220.39236],\n",
       "       [172.40288],\n",
       "       [176.60898],\n",
       "       [109.04657],\n",
       "       [276.3779 ],\n",
       "       [ 90.99942],\n",
       "       [289.37221],\n",
       "       [119.56253],\n",
       "       [ 75.45688],\n",
       "       [180.78599],\n",
       "       [146.62093],\n",
       "       [156.42382],\n",
       "       [ 41.07904],\n",
       "       [247.90645],\n",
       "       [207.99121],\n",
       "       [ 90.09641],\n",
       "       [222.2417 ],\n",
       "       [189.86378],\n",
       "       [182.26954],\n",
       "       [164.39881],\n",
       "       [190.27067],\n",
       "       [105.44868],\n",
       "       [199.86136],\n",
       "       [245.79639],\n",
       "       [123.20281],\n",
       "       [119.41032],\n",
       "       [145.8662 ],\n",
       "       [206.19247],\n",
       "       [150.86282],\n",
       "       [142.23222],\n",
       "       [154.56875],\n",
       "       [115.29233],\n",
       "       [134.0781 ],\n",
       "       [118.42225],\n",
       "       [203.57676],\n",
       "       [170.66484],\n",
       "       [127.4098 ],\n",
       "       [ 57.13508],\n",
       "       [231.92227],\n",
       "       [185.20714],\n",
       "       [187.37495],\n",
       "       [ 83.55921],\n",
       "       [185.42586],\n",
       "       [217.34036],\n",
       "       [108.86715],\n",
       "       [ 80.98715],\n",
       "       [127.05524],\n",
       "       [242.00739],\n",
       "       [155.97234],\n",
       "       [125.67575],\n",
       "       [246.41236],\n",
       "       [234.96393],\n",
       "       [191.51298],\n",
       "       [168.33254],\n",
       "       [163.02965]])"
      ]
     },
     "execution_count": 47,
     "metadata": {},
     "output_type": "execute_result"
    }
   ],
   "source": [
    "Y_predict=alg1.predict(test_data)\n",
    "Y_predict=np.around(Y_predict,5)\n",
    "Y_predict"
   ]
  },
  {
   "cell_type": "code",
   "execution_count": 49,
   "id": "bc289953",
   "metadata": {},
   "outputs": [],
   "source": [
    "m=alg1.coef_\n",
    "c=alg1.intercept_"
   ]
  },
  {
   "cell_type": "code",
   "execution_count": 50,
   "id": "7e59106f",
   "metadata": {},
   "outputs": [
    {
     "name": "stdout",
     "output_type": "stream",
     "text": [
      "[[  21.73408096 -256.66866675  569.60940087  303.63233545 -833.11088526\n",
      "   525.74313633  136.07129167  140.89458927  731.44498492   53.32119133]]\n",
      "[150.70257489]\n"
     ]
    }
   ],
   "source": [
    "print(m)\n",
    "print(c)"
   ]
  },
  {
   "cell_type": "code",
   "execution_count": 53,
   "id": "acf40379",
   "metadata": {},
   "outputs": [],
   "source": [
    "Y_predict\n",
    "np.savetxt('prediction.csv',Y_predict,fmt='%1.5f',delimiter=',')"
   ]
  },
  {
   "cell_type": "code",
   "execution_count": null,
   "id": "4a223cff",
   "metadata": {},
   "outputs": [],
   "source": []
  }
 ],
 "metadata": {
  "kernelspec": {
   "display_name": "Python 3 (ipykernel)",
   "language": "python",
   "name": "python3"
  },
  "language_info": {
   "codemirror_mode": {
    "name": "ipython",
    "version": 3
   },
   "file_extension": ".py",
   "mimetype": "text/x-python",
   "name": "python",
   "nbconvert_exporter": "python",
   "pygments_lexer": "ipython3",
   "version": "3.11.5"
  }
 },
 "nbformat": 4,
 "nbformat_minor": 5
}
